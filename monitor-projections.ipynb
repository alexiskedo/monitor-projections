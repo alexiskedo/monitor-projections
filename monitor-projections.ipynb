{
 "cells": [
  {
   "cell_type": "code",
   "execution_count": 13,
   "metadata": {},
   "outputs": [],
   "source": [
    "# Import all necessary libraries\n",
    "import numpy as np\n",
    "import pandas as pd\n",
    "import matplotlib.pyplot as plt\n",
    "import seaborn as sn\n",
    "\n",
    "def print_full(x):\n",
    "    pd.set_option('display.max_rows', len(x))\n",
    "    print(x)\n",
    "    pd.reset_option('display.max_rows')"
   ]
  },
  {
   "cell_type": "code",
   "execution_count": 59,
   "metadata": {},
   "outputs": [],
   "source": [
    "#Import votes file\n",
    "votes = pd.read_table('2020GEN/2020vote.txt', sep=\"\\t\", header=None)"
   ]
  },
  {
   "cell_type": "code",
   "execution_count": 60,
   "metadata": {
    "scrolled": true
   },
   "outputs": [],
   "source": [
    "votes = votes.sort_values(by=[6], ascending=True)"
   ]
  },
  {
   "cell_type": "code",
   "execution_count": 61,
   "metadata": {},
   "outputs": [],
   "source": [
    "votes = votes.rename(columns={6:'county', 11:'votes', 9:'precinct', 2:'office', 10:'precinct label', 5:'candidate'})"
   ]
  },
  {
   "cell_type": "code",
   "execution_count": 62,
   "metadata": {},
   "outputs": [
    {
     "data": {
      "text/html": [
       "<div>\n",
       "<style scoped>\n",
       "    .dataframe tbody tr th:only-of-type {\n",
       "        vertical-align: middle;\n",
       "    }\n",
       "\n",
       "    .dataframe tbody tr th {\n",
       "        vertical-align: top;\n",
       "    }\n",
       "\n",
       "    .dataframe thead th {\n",
       "        text-align: right;\n",
       "    }\n",
       "</style>\n",
       "<table border=\"1\" class=\"dataframe\">\n",
       "  <thead>\n",
       "    <tr style=\"text-align: right;\">\n",
       "      <th></th>\n",
       "      <th>0</th>\n",
       "      <th>1</th>\n",
       "      <th>office</th>\n",
       "      <th>3</th>\n",
       "      <th>4</th>\n",
       "      <th>5</th>\n",
       "      <th>county</th>\n",
       "      <th>7</th>\n",
       "      <th>8</th>\n",
       "      <th>precinct</th>\n",
       "      <th>precinct label</th>\n",
       "      <th>votes</th>\n",
       "      <th>12</th>\n",
       "    </tr>\n",
       "  </thead>\n",
       "  <tbody>\n",
       "    <tr>\n",
       "      <th>0</th>\n",
       "      <td>2020</td>\n",
       "      <td>GEN</td>\n",
       "      <td>0</td>\n",
       "      <td>0</td>\n",
       "      <td>0</td>\n",
       "      <td>0</td>\n",
       "      <td>1</td>\n",
       "      <td>2</td>\n",
       "      <td>0</td>\n",
       "      <td>1</td>\n",
       "      <td>NaN</td>\n",
       "      <td>822</td>\n",
       "      <td>NaN</td>\n",
       "    </tr>\n",
       "    <tr>\n",
       "      <th>247080</th>\n",
       "      <td>2020</td>\n",
       "      <td>GEN</td>\n",
       "      <td>11</td>\n",
       "      <td>0</td>\n",
       "      <td>0</td>\n",
       "      <td>519812</td>\n",
       "      <td>1</td>\n",
       "      <td>52</td>\n",
       "      <td>0</td>\n",
       "      <td>1</td>\n",
       "      <td>NaN</td>\n",
       "      <td>4</td>\n",
       "      <td>NaN</td>\n",
       "    </tr>\n",
       "    <tr>\n",
       "      <th>247081</th>\n",
       "      <td>2020</td>\n",
       "      <td>GEN</td>\n",
       "      <td>11</td>\n",
       "      <td>0</td>\n",
       "      <td>0</td>\n",
       "      <td>519812</td>\n",
       "      <td>1</td>\n",
       "      <td>9999</td>\n",
       "      <td>0</td>\n",
       "      <td>9999</td>\n",
       "      <td>NaN</td>\n",
       "      <td>1</td>\n",
       "      <td>NaN</td>\n",
       "    </tr>\n",
       "    <tr>\n",
       "      <th>139243</th>\n",
       "      <td>2020</td>\n",
       "      <td>GEN</td>\n",
       "      <td>9</td>\n",
       "      <td>0</td>\n",
       "      <td>0</td>\n",
       "      <td>519839</td>\n",
       "      <td>1</td>\n",
       "      <td>2</td>\n",
       "      <td>0</td>\n",
       "      <td>1</td>\n",
       "      <td>NaN</td>\n",
       "      <td>518</td>\n",
       "      <td>NaN</td>\n",
       "    </tr>\n",
       "    <tr>\n",
       "      <th>139244</th>\n",
       "      <td>2020</td>\n",
       "      <td>GEN</td>\n",
       "      <td>9</td>\n",
       "      <td>0</td>\n",
       "      <td>0</td>\n",
       "      <td>519839</td>\n",
       "      <td>1</td>\n",
       "      <td>4</td>\n",
       "      <td>0</td>\n",
       "      <td>1</td>\n",
       "      <td>NaN</td>\n",
       "      <td>454</td>\n",
       "      <td>NaN</td>\n",
       "    </tr>\n",
       "  </tbody>\n",
       "</table>\n",
       "</div>"
      ],
      "text/plain": [
       "           0    1  office  3  4       5  county     7  8  precinct  \\\n",
       "0       2020  GEN       0  0  0       0       1     2  0         1   \n",
       "247080  2020  GEN      11  0  0  519812       1    52  0         1   \n",
       "247081  2020  GEN      11  0  0  519812       1  9999  0      9999   \n",
       "139243  2020  GEN       9  0  0  519839       1     2  0         1   \n",
       "139244  2020  GEN       9  0  0  519839       1     4  0         1   \n",
       "\n",
       "       precinct label  votes  12  \n",
       "0                 NaN    822 NaN  \n",
       "247080            NaN      4 NaN  \n",
       "247081            NaN      1 NaN  \n",
       "139243            NaN    518 NaN  \n",
       "139244            NaN    454 NaN  "
      ]
     },
     "execution_count": 62,
     "metadata": {},
     "output_type": "execute_result"
    }
   ],
   "source": [
    "votes.head()"
   ]
  },
  {
   "cell_type": "code",
   "execution_count": 63,
   "metadata": {},
   "outputs": [],
   "source": [
    "#Grabbing only votes from presidential election \n",
    "pres_votes = votes.loc[votes['office'] == 1]"
   ]
  },
  {
   "cell_type": "code",
   "execution_count": 64,
   "metadata": {},
   "outputs": [
    {
     "data": {
      "text/plain": [
       "AVCB    1474\n",
       "A        319\n",
       "B        143\n",
       "C         22\n",
       "S         11\n",
       "N         11\n",
       "W         11\n",
       "Name: precinct label, dtype: int64"
      ]
     },
     "execution_count": 64,
     "metadata": {},
     "output_type": "execute_result"
    }
   ],
   "source": [
    "pres_votes['precinct label'].value_counts()"
   ]
  },
  {
   "cell_type": "code",
   "execution_count": 65,
   "metadata": {
    "scrolled": true
   },
   "outputs": [],
   "source": [
    "genesee = pres_votes.loc[pres_votes['county'] == 25].sort_values(by='precinct',ascending=True)"
   ]
  },
  {
   "cell_type": "code",
   "execution_count": 67,
   "metadata": {},
   "outputs": [],
   "source": [
    "genesee = genesee.sort_values(by=['votes'], ascending=False)"
   ]
  },
  {
   "cell_type": "code",
   "execution_count": 71,
   "metadata": {},
   "outputs": [
    {
     "data": {
      "text/plain": [
       "-1417    216\n",
       "-1415    216\n",
       "-1413    216\n",
       "-1403    216\n",
       "-1401    216\n",
       "-1391    216\n",
       "-1385    216\n",
       "-1373    216\n",
       "-1416    216\n",
       "-1414    216\n",
       "-1398    216\n",
       "Name: 5, dtype: int64"
      ]
     },
     "execution_count": 71,
     "metadata": {},
     "output_type": "execute_result"
    }
   ],
   "source": [
    "genesee[5].value_counts()\n",
    "#Tomorrow - attached candidate to county and precinct code to make unique codes for each precinct "
   ]
  },
  {
   "cell_type": "code",
   "execution_count": 42,
   "metadata": {},
   "outputs": [
    {
     "name": "stdout",
     "output_type": "stream",
     "text": [
      "     0             1   2\n",
      "0    1        ALCONA NaN\n",
      "1    2         ALGER NaN\n",
      "2    3       ALLEGAN NaN\n",
      "3    4        ALPENA NaN\n",
      "4    5        ANTRIM NaN\n",
      "5    6        ARENAC NaN\n",
      "6    7        BARAGA NaN\n",
      "7    8         BARRY NaN\n",
      "8    9           BAY NaN\n",
      "9   10        BENZIE NaN\n",
      "10  11       BERRIEN NaN\n",
      "11  12        BRANCH NaN\n",
      "12  13       CALHOUN NaN\n",
      "13  14          CASS NaN\n",
      "14  15    CHARLEVOIX NaN\n",
      "15  16     CHEBOYGAN NaN\n",
      "16  17      CHIPPEWA NaN\n",
      "17  18         CLARE NaN\n",
      "18  19       CLINTON NaN\n",
      "19  20      CRAWFORD NaN\n",
      "20  21         DELTA NaN\n",
      "21  22     DICKINSON NaN\n",
      "22  23         EATON NaN\n",
      "23  24         EMMET NaN\n",
      "24  25       GENESEE NaN\n",
      "25  26       GLADWIN NaN\n",
      "26  27       GOGEBIC NaN\n",
      "27  28  GD. TRAVERSE NaN\n",
      "28  29       GRATIOT NaN\n",
      "29  30     HILLSDALE NaN\n",
      "30  31      HOUGHTON NaN\n",
      "31  32         HURON NaN\n",
      "32  33        INGHAM NaN\n",
      "33  34         IONIA NaN\n",
      "34  35         IOSCO NaN\n",
      "35  36          IRON NaN\n",
      "36  37      ISABELLA NaN\n",
      "37  38       JACKSON NaN\n",
      "38  39     KALAMAZOO NaN\n",
      "39  40      KALKASKA NaN\n",
      "40  41          KENT NaN\n",
      "41  42      KEWEENAW NaN\n",
      "42  43          LAKE NaN\n",
      "43  44        LAPEER NaN\n",
      "44  45      LEELANAU NaN\n",
      "45  46       LENAWEE NaN\n",
      "46  47    LIVINGSTON NaN\n",
      "47  48          LUCE NaN\n",
      "48  49      MACKINAC NaN\n",
      "49  50        MACOMB NaN\n",
      "50  51      MANISTEE NaN\n",
      "51  52     MARQUETTE NaN\n",
      "52  53         MASON NaN\n",
      "53  54       MECOSTA NaN\n",
      "54  55     MENOMINEE NaN\n",
      "55  56       MIDLAND NaN\n",
      "56  57     MISSAUKEE NaN\n",
      "57  58        MONROE NaN\n",
      "58  59      MONTCALM NaN\n",
      "59  60   MONTMORENCY NaN\n",
      "60  61      MUSKEGON NaN\n",
      "61  62       NEWAYGO NaN\n",
      "62  63       OAKLAND NaN\n",
      "63  64        OCEANA NaN\n",
      "64  65        OGEMAW NaN\n",
      "65  66     ONTONAGON NaN\n",
      "66  67       OSCEOLA NaN\n",
      "67  68        OSCODA NaN\n",
      "68  69        OTSEGO NaN\n",
      "69  70        OTTAWA NaN\n",
      "70  71  PRESQUE ISLE NaN\n",
      "71  72     ROSCOMMON NaN\n",
      "72  73       SAGINAW NaN\n",
      "73  74     ST. CLAIR NaN\n",
      "74  75    ST. JOSEPH NaN\n",
      "75  76       SANILAC NaN\n",
      "76  77   SCHOOLCRAFT NaN\n",
      "77  78    SHIAWASSEE NaN\n",
      "78  79       TUSCOLA NaN\n",
      "79  80     VAN BUREN NaN\n",
      "80  81     WASHTENAW NaN\n",
      "81  82         WAYNE NaN\n",
      "82  83       WEXFORD NaN\n"
     ]
    }
   ],
   "source": [
    "#Import county names \n",
    "counties =pd.read_table('2018GEN/county.txt', sep=\"\\t\", header=None)\n",
    "print_full(counties)"
   ]
  }
 ],
 "metadata": {
  "kernelspec": {
   "display_name": "Python 3",
   "language": "python",
   "name": "python3"
  },
  "language_info": {
   "codemirror_mode": {
    "name": "ipython",
    "version": 3
   },
   "file_extension": ".py",
   "mimetype": "text/x-python",
   "name": "python",
   "nbconvert_exporter": "python",
   "pygments_lexer": "ipython3",
   "version": "3.8.5"
  }
 },
 "nbformat": 4,
 "nbformat_minor": 4
}
